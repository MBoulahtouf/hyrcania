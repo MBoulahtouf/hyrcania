{
 "cells": [
  {
   "cell_type": "markdown",
   "id": "69232e19-6ae9-414c-8082-ae97b175a61c",
   "metadata": {},
   "source": [
    "# Project Hyrcania: Automated Olive Oil Quality Control\n",
    "\n",
    "**Objective:** To develop a machine learning system that classifies the quality and age of extra virgin olive oil using fluorescence and UV absorption spectroscopy.\n",
    "\n",
    "This notebook documents the process of loading the data, preprocessing it using the `RamanSPy` library, and training a deep learning model with `PyTorch` to perform the classification. This project serves as a practical demonstration of building an end-to-end ML pipeline for spectroscopic analysis, mirroring the challenges faced in industrial quality control.\n",
    "\n",
    "**Workflow:**\n",
    "1.  **Setup:** Install and import necessary libraries.\n",
    "2.  **Data Loading:** Load the olive oil spectroscopy dataset.\n",
    "3.  **Preprocessing:** Adapt the data for `RamanSPy` and apply a cleaning pipeline.\n",
    "4.  **Visualization:** Plot the spectra to observe the effects of preprocessing.\n",
    "5.  **Model Training:** Build and train a 1D Convolutional Neural Network (CNN) with PyTorch.\n",
    "6.  **Next Steps:** Outline the path to productionizing the model with FastAPI and Docker."
   ]
  },
  {
   "cell_type": "code",
   "execution_count": null,
   "id": "4fd66528-b851-4a7d-b7bc-6cd2a16d16e1",
   "metadata": {},
   "outputs": [],
   "source": [
    "# Installing necessary packages using pip\n",
    "!pip install pandas numpy matplotlib scikit-learn torch torcheval\n",
    "!pip install ramanspy --pre"
   ]
  },
  {
   "cell_type": "code",
   "execution_count": null,
   "id": "e5e7260b-efba-4f89-8037-160dcadbfd85",
   "metadata": {},
   "outputs": [],
   "source": [
    "# Importing libraries\n",
    "import os\n",
    "import pandas as pd\n",
    "import numpy as np\n",
    "import torch\n",
    "import torch.nn as nn\n",
    "from torch.utils.data import DataLoader, TensorDataset\n",
    "from torcheval.metrics import MulticlassAccuracy\n",
    "from sklearn.model_selection import train_test_split\n",
    "import matplotlib.pyplot as plt\n",
    "\n",
    "# Importing RamanSPy\n",
    "import ramanspy as rp\n",
    "\n",
    "print(\"All libraries imported successfully.\")"
   ]
  },
  {
   "cell_type": "code",
   "execution_count": null,
   "id": "ef425fdc-960d-4622-b965-940fe9a21d33",
   "metadata": {},
   "outputs": [],
   "source": [
    "# Define the path to your data directory\n",
    "data_path = './data/EEMs_UV_data/'\n",
    "\n",
    "# The dataset is organized into folders representing aging steps\n",
    "aging_steps = sorted(os.listdir(data_path))\n",
    "\n",
    "# Let's inspect the available aging steps\n",
    "print(f\"Available aging folders: {aging_steps}\")\n",
    "\n",
    "# We will load the UV absorption data for this classification task.\n",
    "# The file is typically named 'abs1.Sample_X.csv'\n",
    "all_data = []\n",
    "labels = []\n",
    "\n",
    "for i, step_folder in enumerate(aging_steps):\n",
    "    folder_path = os.path.join(data_path, step_folder)\n",
    "    if os.path.isdir(folder_path):\n",
    "        for file_name in os.listdir(folder_path):\n",
    "            if file_name.startswith('abs1.'):\n",
    "                file_path = os.path.join(folder_path, file_name)\n",
    "                # Load the UV spectrum data\n",
    "                spectrum_df = pd.read_csv(file_path, sep='\\t', header=None)\n",
    "                # The second column contains the absorption values\n",
    "                absorption_values = spectrum_df.iloc[:, 1].values\n",
    "                all_data.append(absorption_values)\n",
    "                labels.append(i) # Use the folder index as the class label\n",
    "\n",
    "# Convert to numpy arrays\n",
    "X = np.array(all_data)\n",
    "y = np.array(labels)\n",
    "\n",
    "# The first column of the csv contains the wavelengths, which are our x-axis\n",
    "wavelenghts = pd.read_csv(os.path.join(data_path, aging_steps[0], 'abs1.Sample_1.csv'), sep='\\t', header=None).iloc[:, 0].values\n",
    "\n",
    "\n",
    "print(f\"Successfully loaded data.\")\n",
    "print(f\"Shape of spectral data (X): {X.shape}\")\n",
    "print(f\"Shape of labels (y): {y.shape}\")\n",
    "print(f\"Number of classes (aging steps): {len(np.unique(y))}\")"
   ]
  },
  {
   "cell_type": "code",
   "execution_count": null,
   "id": "e9127e99-6dba-45ad-906c-43de66454da2",
   "metadata": {},
   "outputs": [],
   "source": [
    "plt.style.use('seaborn-v0_8-whitegrid')\n",
    "fig, ax = plt.subplots(figsize=(12, 7))\n",
    "\n",
    "# Plot one sample from the first, middle, and last aging step\n",
    "indices_to_plot = [0, len(y) // 2, len(y) - 1]\n",
    "labels_to_plot = ['Fresh (Class 0)', 'Mid-Aged', 'Most Aged']\n",
    "\n",
    "for i, label_str in zip(indices_to_plot, labels_to_plot):\n",
    "    ax.plot(wavelenghts, X[i, :], label=f'{label_str}')\n",
    "\n",
    "ax.set_title('Raw UV Absorption Spectra of Olive Oil at Different Aging Stages', fontsize=16)\n",
    "ax.set_xlabel('Wavelength (nm)', fontsize=12)\n",
    "ax.set_ylabel('Absorption', fontsize=12)\n",
    "ax.legend()\n",
    "ax.grid(True)\n",
    "plt.show()"
   ]
  },
  {
   "cell_type": "code",
   "execution_count": null,
   "id": "4f5435a9-df03-47f4-b2fe-4c43c1fe6ff2",
   "metadata": {},
   "outputs": [],
   "source": [
    "# 1. Adapt the numpy array into a RamanSPy data container\n",
    "# We treat our collection of spectra as a set of single spectra\n",
    "raman_spectra = [rp.Spectrum(X[i, :], wavelenghts) for i in range(X.shape[0])]\n",
    "\n",
    "# 2. Define the preprocessing pipeline\n",
    "# This is a key step to showcase your understanding of the library\n",
    "pipeline = rp.preprocessing.Pipeline([\n",
    "    # ASPLS is a great algorithm for baseline correction in spectra\n",
    "    rp.preprocessing.baseline.ASPLS(),\n",
    "    # MinMax normalisation scales the data between 0 and 1, which is good for NN models\n",
    "    rp.preprocessing.normalise.MinMax()\n",
    "])\n",
    "\n",
    "# 3. Apply the pipeline to our data\n",
    "preprocessed_spectra = pipeline.apply(raman_spectra)\n",
    "\n",
    "# 4. Convert the preprocessed data back to a numpy array for PyTorch\n",
    "X_preprocessed = np.array([spec.intensity for spec in preprocessed_spectra])\n",
    "\n",
    "print(\"Shape of preprocessed data:\", X_preprocessed.shape)\n"
   ]
  },
  {
   "cell_type": "code",
   "execution_count": null,
   "id": "7d815524-e8e3-4301-bb27-960f8aa4ca28",
   "metadata": {},
   "outputs": [],
   "source": [
    "fig, ax = plt.subplots(figsize=(12, 7))\n",
    "\n",
    "# Plot the same samples as before\n",
    "for i, label_str in zip(indices_to_plot, labels_to_plot):\n",
    "    ax.plot(wavelenghts, X_preprocessed[i, :], label=f'{label_str} (Preprocessed)')\n",
    "\n",
    "ax.set_title('Preprocessed UV Absorption Spectra', fontsize=16)\n",
    "ax.set_xlabel('Wavelength (nm)', fontsize=12)\n",
    "ax.set_ylabel('Normalized Absorption', fontsize=12)\n",
    "ax.legend()\n",
    "ax.grid(True)\n",
    "plt.show()"
   ]
  }
 ],
 "metadata": {
  "kernelspec": {
   "display_name": "Python 3 (ipykernel)",
   "language": "python",
   "name": "python3"
  },
  "language_info": {
   "codemirror_mode": {
    "name": "ipython",
    "version": 3
   },
   "file_extension": ".py",
   "mimetype": "text/x-python",
   "name": "python",
   "nbconvert_exporter": "python",
   "pygments_lexer": "ipython3",
   "version": "3.12.3"
  }
 },
 "nbformat": 4,
 "nbformat_minor": 5
}
